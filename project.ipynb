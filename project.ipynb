{
 "cells": [
  {
   "cell_type": "markdown",
   "metadata": {},
   "source": [
    "# Analysis of Paleo-present Climate Data\n",
    "***"
   ]
  },
  {
   "cell_type": "markdown",
   "metadata": {},
   "source": [
    "## Background\n",
    "Paleoclimatology is the study of the climate history of earth [1]. This science allows for a better understanding of the climate of Earth in the past and how it relates to present and future climates on the planet. Earths climate past cannot be found in modern records. Therefore, scientists must gather data preserved in nature over the millennia in paleological remains referred to as proxy records [1]. An example of a type of proxy data is when scientists drill into ice sheets and extract ice cores to analyze deposits trapped within the ice, such as pollen and gas [1]. This gives insights into the atmospheric and climatic conditions that existed when particular layers of the sheet formed. These studies have shown that the climate of Earth is always changing. Research revealed that there have been several ice ages as well as several periods of global warming [1]. An ice age is a period of colder global temperatures and recurring glacial expansion capable of lasting hundreds of millions of years [2]. Paleoclimatology has shown that other enviromental factors such as continental drift, greenhouses gases in the atmosphere, solar energy, and the variation in Earth’s orbit have all affected the climate of Earth over time. This type of science is vital to our understanding of climate on Earth. Models can be developed to help predict how increased carbon dioxide levels and other changes may impact the climate of Earth in years to come. "
   ]
  },
  {
   "cell_type": "markdown",
   "metadata": {},
   "source": [
    "## Data Collection and Loading"
   ]
  },
  {
   "cell_type": "code",
   "execution_count": 1,
   "metadata": {},
   "outputs": [],
   "source": [
    "# Import necessary libraries.\n",
    "import pandas as pd"
   ]
  },
  {
   "cell_type": "code",
   "execution_count": 34,
   "metadata": {},
   "outputs": [],
   "source": [
    "df = pd.read_excel('data/new_atmospheric_CO2.xls', sheet_name='CO2 Composite', skiprows=range(14))"
   ]
  },
  {
   "cell_type": "code",
   "execution_count": 35,
   "metadata": {},
   "outputs": [],
   "source": [
    "# Remove extra spaces from column names\n",
    "df.columns = df.columns.str.strip()"
   ]
  },
  {
   "cell_type": "code",
   "execution_count": 36,
   "metadata": {},
   "outputs": [
    {
     "name": "stdout",
     "output_type": "stream",
     "text": [
      "Index(['Gasage (yr BP)', 'CO2 (ppmv)', 'sigma mean CO2 (ppmv)'], dtype='object')\n"
     ]
    }
   ],
   "source": [
    "# Print column names for inspection\n",
    "print(df.columns)"
   ]
  },
  {
   "cell_type": "code",
   "execution_count": 37,
   "metadata": {},
   "outputs": [],
   "source": [
    "# Extract relevant columns\n",
    "co2_data = df[['Gasage (yr BP)', 'CO2 (ppmv)']]"
   ]
  },
  {
   "cell_type": "code",
   "execution_count": null,
   "metadata": {},
   "outputs": [],
   "source": []
  },
  {
   "cell_type": "markdown",
   "metadata": {},
   "source": [
    "## Data Processing"
   ]
  },
  {
   "cell_type": "markdown",
   "metadata": {},
   "source": [
    "## Data Analysis\n",
    "### CO2 vs Temperature Anomaly Analysis"
   ]
  },
  {
   "cell_type": "markdown",
   "metadata": {},
   "source": [
    "### Additional Feature Analysis"
   ]
  },
  {
   "cell_type": "markdown",
   "metadata": {},
   "source": [
    "### Irish Context Analysis"
   ]
  },
  {
   "cell_type": "markdown",
   "metadata": {},
   "source": [
    "## Data Export"
   ]
  },
  {
   "cell_type": "markdown",
   "metadata": {},
   "source": [
    "## Temperature Anomaly Prediction"
   ]
  },
  {
   "cell_type": "markdown",
   "metadata": {},
   "source": [
    "## Conclusion"
   ]
  },
  {
   "cell_type": "markdown",
   "metadata": {},
   "source": [
    "## References\n",
    "[1] *Paleoclimatology*, *National Geographic Society*, https://education.nationalgeographic.org/resource/paleoclimatology-RL/\n",
    "[2] *Ice Age*, *HISTORY.COM EDITORS*, https://www.history.com/topics/pre-history/ice-age"
   ]
  },
  {
   "cell_type": "markdown",
   "metadata": {},
   "source": [
    "***\n",
    "# End"
   ]
  }
 ],
 "metadata": {
  "kernelspec": {
   "display_name": "base",
   "language": "python",
   "name": "python3"
  },
  "language_info": {
   "codemirror_mode": {
    "name": "ipython",
    "version": 3
   },
   "file_extension": ".py",
   "mimetype": "text/x-python",
   "name": "python",
   "nbconvert_exporter": "python",
   "pygments_lexer": "ipython3",
   "version": "3.10.13"
  }
 },
 "nbformat": 4,
 "nbformat_minor": 2
}
